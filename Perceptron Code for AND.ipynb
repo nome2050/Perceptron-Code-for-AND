{
 "cells": [
  {
   "cell_type": "markdown",
   "metadata": {},
   "source": [
    "### Setting Values of  Weights , Learning rate and Threshold"
   ]
  },
  {
   "cell_type": "code",
   "execution_count": 20,
   "metadata": {},
   "outputs": [],
   "source": [
    "w1= -0.4\n",
    "w2= -0.5\n",
    "Learning_rate = 0.4\n",
    "Thold = 0"
   ]
  },
  {
   "cell_type": "markdown",
   "metadata": {},
   "source": [
    "### Setting the Expected Value of AND"
   ]
  },
  {
   "cell_type": "code",
   "execution_count": 9,
   "metadata": {},
   "outputs": [],
   "source": [
    "exp = [0,0,0,1]"
   ]
  },
  {
   "cell_type": "markdown",
   "metadata": {},
   "source": [
    "### Defining Step Function"
   ]
  },
  {
   "cell_type": "code",
   "execution_count": 10,
   "metadata": {},
   "outputs": [],
   "source": [
    "def step(num):\n",
    "    if(num>Thold):\n",
    "        num=1\n",
    "    elif(num<=Thold):\n",
    "        num=0\n",
    "    return num"
   ]
  },
  {
   "cell_type": "markdown",
   "metadata": {},
   "source": [
    "### Defining Error Calculate Function"
   ]
  },
  {
   "cell_type": "code",
   "execution_count": 11,
   "metadata": {},
   "outputs": [],
   "source": [
    "def errorcal(act,exp):\n",
    "    e = exp-act\n",
    "    return e"
   ]
  },
  {
   "cell_type": "markdown",
   "metadata": {},
   "source": [
    "### Defining Weights Update Function"
   ]
  },
  {
   "cell_type": "code",
   "execution_count": 12,
   "metadata": {},
   "outputs": [],
   "source": [
    "def weightupdate(wi,xi,error):\n",
    "    newweight = wi+(Learning_rate*xi*error)\n",
    "    return newweight"
   ]
  },
  {
   "cell_type": "markdown",
   "metadata": {},
   "source": [
    "### Running Epoches"
   ]
  },
  {
   "cell_type": "code",
   "execution_count": 21,
   "metadata": {},
   "outputs": [
    {
     "name": "stdout",
     "output_type": "stream",
     "text": [
      "\n",
      "*****EPOCH # 1*****\n",
      " \n",
      "for x1 = 0 , for x2 = 0\n",
      "w1 = -0.4 ,  w2 = -0.5\n",
      "Our Actual Value is 0\n",
      "Our Expected Value is 0\n",
      "Our error Value is 0\n",
      " \n",
      "for x1 = 0 , for x2 = 1\n",
      "w1 = -0.4 ,  w2 = -0.5\n",
      "Our Actual Value is 0\n",
      "Our Expected Value is 0\n",
      "Our error Value is 0\n",
      " \n",
      "for x1 = 1 , for x2 = 0\n",
      "w1 = -0.4 ,  w2 = -0.5\n",
      "Our Actual Value is 0\n",
      "Our Expected Value is 0\n",
      "Our error Value is 0\n",
      " \n",
      "for x1 = 1 , for x2 = 1\n",
      "w1 = -0.4 ,  w2 = -0.5\n",
      "Our Actual Value is 0\n",
      "Our Expected Value is 1\n",
      "Our error Value is 1\n",
      "Our Updated Weight w1 is 0.0\n",
      "Our Updated Weight w2 is -0.09999999999999998\n",
      "\n",
      "*****EPOCH # 2*****\n",
      " \n",
      "for x1 = 0 , for x2 = 0\n",
      "w1 = 0.0 ,  w2 = -0.09999999999999998\n",
      "Our Actual Value is 0\n",
      "Our Expected Value is 0\n",
      "Our error Value is 0\n",
      " \n",
      "for x1 = 0 , for x2 = 1\n",
      "w1 = 0.0 ,  w2 = -0.09999999999999998\n",
      "Our Actual Value is 0\n",
      "Our Expected Value is 0\n",
      "Our error Value is 0\n",
      " \n",
      "for x1 = 1 , for x2 = 0\n",
      "w1 = 0.0 ,  w2 = -0.09999999999999998\n",
      "Our Actual Value is 0\n",
      "Our Expected Value is 0\n",
      "Our error Value is 0\n",
      " \n",
      "for x1 = 1 , for x2 = 1\n",
      "w1 = 0.0 ,  w2 = -0.09999999999999998\n",
      "Our Actual Value is 0\n",
      "Our Expected Value is 1\n",
      "Our error Value is 1\n",
      "Our Updated Weight w1 is 0.4\n",
      "Our Updated Weight w2 is 0.30000000000000004\n",
      "\n",
      "*****EPOCH # 3*****\n",
      " \n",
      "for x1 = 0 , for x2 = 0\n",
      "w1 = 0.4 ,  w2 = 0.30000000000000004\n",
      "Our Actual Value is 0\n",
      "Our Expected Value is 0\n",
      "Our error Value is 0\n",
      " \n",
      "for x1 = 0 , for x2 = 1\n",
      "w1 = 0.4 ,  w2 = 0.30000000000000004\n",
      "Our Actual Value is 1\n",
      "Our Expected Value is 0\n",
      "Our error Value is -1\n",
      "Our Updated Weight w1 is 0.4\n",
      "Our Updated Weight w2 is -0.09999999999999998\n",
      " \n",
      "for x1 = 1 , for x2 = 0\n",
      "w1 = 0.4 ,  w2 = -0.09999999999999998\n",
      "Our Actual Value is 1\n",
      "Our Expected Value is 0\n",
      "Our error Value is -1\n",
      "Our Updated Weight w1 is 0.0\n",
      "Our Updated Weight w2 is -0.09999999999999998\n",
      " \n",
      "for x1 = 1 , for x2 = 1\n",
      "w1 = 0.0 ,  w2 = -0.09999999999999998\n",
      "Our Actual Value is 0\n",
      "Our Expected Value is 1\n",
      "Our error Value is 1\n",
      "Our Updated Weight w1 is 0.4\n",
      "Our Updated Weight w2 is 0.30000000000000004\n"
     ]
    }
   ],
   "source": [
    "for epoch in range (3):\n",
    "    print(\"\")\n",
    "    print(\"*****EPOCH # {}*****\".format(epoch+1))\n",
    "    ite = 0\n",
    "    for x1 in range(2):\n",
    "        for x2 in range(2):\n",
    "            print(\" \")\n",
    "            print(\"for x1 = {} , for x2 = {}\".format(x1,x2))\n",
    "            print(\"w1 = {} ,  w2 = {}\".format(w1,w2))\n",
    "            y = (w1*x1)+(w2*x2)\n",
    "            y = step(y)\n",
    "            print(\"Our Actual Value is {}\".format(y))\n",
    "            print(\"Our Expected Value is {}\".format(exp[ite]))\n",
    "            error = errorcal(y,exp[ite])\n",
    "            print(\"Our error Value is {}\".format(error))\n",
    "            if(error!=0):\n",
    "                w1=weightupdate(w1,x1,error)\n",
    "                print(\"Our Updated Weight w1 is {}\".format(w1))\n",
    "                w2=weightupdate(w2,x2,error)\n",
    "                print(\"Our Updated Weight w2 is {}\".format(w2))\n",
    "            ite= ite+1\n",
    "    "
   ]
  },
  {
   "cell_type": "code",
   "execution_count": null,
   "metadata": {},
   "outputs": [],
   "source": []
  }
 ],
 "metadata": {
  "kernelspec": {
   "display_name": "Python 3",
   "language": "python",
   "name": "python3"
  },
  "language_info": {
   "codemirror_mode": {
    "name": "ipython",
    "version": 3
   },
   "file_extension": ".py",
   "mimetype": "text/x-python",
   "name": "python",
   "nbconvert_exporter": "python",
   "pygments_lexer": "ipython3",
   "version": "3.6.5"
  }
 },
 "nbformat": 4,
 "nbformat_minor": 2
}
